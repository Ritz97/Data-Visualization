{
  "nbformat": 4,
  "nbformat_minor": 0,
  "metadata": {
    "colab": {
      "name": "Titanic.ipynb",
      "provenance": [],
      "collapsed_sections": [],
      "authorship_tag": "ABX9TyP69aIfJy6YbXVIRT9swoJQ",
      "include_colab_link": true
    },
    "kernelspec": {
      "name": "python3",
      "display_name": "Python 3"
    },
    "language_info": {
      "name": "python"
    }
  },
  "cells": [
    {
      "cell_type": "markdown",
      "metadata": {
        "id": "view-in-github",
        "colab_type": "text"
      },
      "source": [
        "<a href=\"https://colab.research.google.com/github/Ritz97/Data-Visualization/blob/main/Titanic.ipynb\" target=\"_parent\"><img src=\"https://colab.research.google.com/assets/colab-badge.svg\" alt=\"Open In Colab\"/></a>"
      ]
    },
    {
      "cell_type": "code",
      "metadata": {
        "id": "dB8_P64GgAAr"
      },
      "source": [
        "import pandas as pd\n",
        "import numpy as np\n",
        "import seaborn as sns\n",
        "from google.colab import drive"
      ],
      "execution_count": 1,
      "outputs": []
    },
    {
      "cell_type": "code",
      "metadata": {
        "id": "ro0qgLEHcIlx"
      },
      "source": [
        "drive.mount('/content/drive')"
      ],
      "execution_count": null,
      "outputs": []
    },
    {
      "cell_type": "code",
      "metadata": {
        "id": "Ru0Kapw8faO4"
      },
      "source": [
        "df = pd.read_csv(\"/content/drive/MyDrive/Colab Notebooks/Titanic/Titanic.csv\", usecols = ['Survived', 'Pclass', 'Sex', 'Age', 'Fare'])\n",
        "dfnew = df.dropna()"
      ],
      "execution_count": 3,
      "outputs": []
    },
    {
      "cell_type": "code",
      "metadata": {
        "id": "DQK5bL8ITkiK"
      },
      "source": [
        "Pclass = dfnew[['Survived', 'Pclass']].copy()\n",
        "PclassUnique = np.sort(Pclass.Pclass.unique())\n",
        "PclassDict = {'Pclass' : [], 'Survived' : []}\n",
        "for i in PclassUnique:\n",
        "  PclassUniqueI = Pclass[Pclass.Pclass == i]\n",
        "  PclassSurvived = round(PclassUniqueI.Survived.value_counts(normalize=True)[1] * 100, 2)\n",
        "  PclassDict['Pclass'].append(i)\n",
        "  PclassDict['Survived'].append(PclassSurvived)\n",
        "PclassPlot = sns.barplot(data = PclassDict, x = 'Pclass', y = 'Survived')\n",
        "PclassPlot.set(xlabel = 'Passenger Class', ylabel = 'Survival %', title ='Survival based on Passenger Class')\n",
        "fig = PclassPlot.get_figure()\n",
        "fig.savefig(\"/content/drive/MyDrive/Colab Notebooks/Titanic/Pclass.png\")"
      ],
      "execution_count": null,
      "outputs": []
    }
  ]
}