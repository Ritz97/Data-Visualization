{
  "nbformat": 4,
  "nbformat_minor": 0,
  "metadata": {
    "colab": {
      "name": "Titanic.ipynb",
      "provenance": [],
      "collapsed_sections": [],
      "authorship_tag": "ABX9TyNjf+apOoJ8HS8ikfHE/yuc",
      "include_colab_link": true
    },
    "kernelspec": {
      "name": "python3",
      "display_name": "Python 3"
    },
    "language_info": {
      "name": "python"
    }
  },
  "cells": [
    {
      "cell_type": "markdown",
      "metadata": {
        "id": "view-in-github",
        "colab_type": "text"
      },
      "source": [
        "<a href=\"https://colab.research.google.com/github/Ritz97/Data-Visualization/blob/main/Titanic.ipynb\" target=\"_parent\"><img src=\"https://colab.research.google.com/assets/colab-badge.svg\" alt=\"Open In Colab\"/></a>"
      ]
    },
    {
      "cell_type": "markdown",
      "metadata": {
        "id": "e-GGsZItIsaG"
      },
      "source": [
        "Packages"
      ]
    },
    {
      "cell_type": "code",
      "metadata": {
        "id": "dB8_P64GgAAr"
      },
      "source": [
        "import pandas as pd\n",
        "import seaborn as sns\n",
        "import matplotlib.ticker as mtick\n",
        "from google.colab import drive"
      ],
      "execution_count": null,
      "outputs": []
    },
    {
      "cell_type": "markdown",
      "metadata": {
        "id": "9LUj2logIzQt"
      },
      "source": [
        "Mount from Drive"
      ]
    },
    {
      "cell_type": "code",
      "metadata": {
        "id": "ro0qgLEHcIlx"
      },
      "source": [
        "drive.mount('/content/drive')"
      ],
      "execution_count": null,
      "outputs": []
    },
    {
      "cell_type": "markdown",
      "metadata": {
        "id": "kflsN0sNI3CP"
      },
      "source": [
        "Read CSV"
      ]
    },
    {
      "cell_type": "code",
      "metadata": {
        "id": "Ru0Kapw8faO4"
      },
      "source": [
        "df = pd.read_csv(\"/content/drive/MyDrive/Colab Notebooks/Titanic/Titanic.csv\", usecols = ['Survived', 'Pclass', 'Sex', 'Age'])\n",
        "dfnew = df.dropna()"
      ],
      "execution_count": null,
      "outputs": []
    },
    {
      "cell_type": "markdown",
      "metadata": {
        "id": "gfyRrP4bI8_x"
      },
      "source": [
        "Survival based on Passenger Class"
      ]
    },
    {
      "cell_type": "code",
      "metadata": {
        "id": "kUHA0btVtlcp"
      },
      "source": [
        "Pclass = dfnew[['Survived', 'Pclass']].copy()\n",
        "sns.set_style('whitegrid')\n",
        "PclassPlot = sns.barplot(data = Pclass, x = 'Pclass', y = 'Survived', palette = 'muted')\n",
        "PclassPlot.yaxis.set_major_formatter(mtick.PercentFormatter(1))\n",
        "PclassPlot.set(xlabel = 'Passenger Class', ylabel = 'Survived %', title ='Survival based on Passenger Class')\n",
        "fig = PclassPlot.get_figure()\n",
        "fig.savefig(\"/content/drive/MyDrive/Colab Notebooks/Titanic/Pclass.png\")"
      ],
      "execution_count": null,
      "outputs": []
    },
    {
      "cell_type": "markdown",
      "metadata": {
        "id": "SK9tu7KaJJnW"
      },
      "source": [
        "Survival based on Passenger Class and Sex"
      ]
    },
    {
      "cell_type": "code",
      "metadata": {
        "id": "TYflTkMLg13V"
      },
      "source": [
        "PclassSex = dfnew[['Survived', 'Pclass', 'Sex']].copy()\n",
        "sns.set_style('whitegrid')\n",
        "PclassSexPlot = sns.barplot(data = PclassSex, x = 'Pclass', y = 'Survived', hue = 'Sex', palette = 'icefire')\n",
        "PclassSexPlot.yaxis.set_major_formatter(mtick.PercentFormatter(1))\n",
        "PclassSexPlot.set(xlabel = 'Passenger Class', ylabel = 'Survived %', title ='Survival based on Passenger Class and Sex')\n",
        "fig = PclassSexPlot.get_figure()\n",
        "fig.savefig(\"/content/drive/MyDrive/Colab Notebooks/Titanic/PclassSex.png\")"
      ],
      "execution_count": null,
      "outputs": []
    },
    {
      "cell_type": "markdown",
      "metadata": {
        "id": "LXSD8FPoJOhS"
      },
      "source": [
        "Survival based on Age"
      ]
    },
    {
      "cell_type": "code",
      "metadata": {
        "id": "-6wndYiGkZNw"
      },
      "source": [
        "Age = dfnew[['Survived', 'Age']].copy()\n",
        "sns.set_style('whitegrid')\n",
        "AgePlot = sns.stripplot(data = Age, x = 'Age', y = 'Survived', orient = 'h', palette = 'rocket')\n",
        "AgePlot.yaxis.set_major_formatter(mtick.FuncFormatter(lambda x, pos: 'Yes' if x == 1 else 'No'))\n",
        "AgePlot.set(xlabel = 'Age', ylabel = 'Survived', title ='Survival based on Age')\n",
        "fig = AgePlot.get_figure()\n",
        "fig.savefig(\"/content/drive/MyDrive/Colab Notebooks/Titanic/Age.png\")"
      ],
      "execution_count": null,
      "outputs": []
    }
  ]
}