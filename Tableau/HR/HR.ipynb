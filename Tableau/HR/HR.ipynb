{
  "nbformat": 4,
  "nbformat_minor": 0,
  "metadata": {
    "colab": {
      "name": "HR.ipynb",
      "provenance": [],
      "collapsed_sections": []
    },
    "kernelspec": {
      "name": "python3",
      "display_name": "Python 3"
    },
    "language_info": {
      "name": "python"
    }
  },
  "cells": [
    {
      "cell_type": "code",
      "source": [
        "import pandas as pd\n",
        "from google.colab import drive"
      ],
      "metadata": {
        "id": "AS-xLi3wHvQV"
      },
      "execution_count": null,
      "outputs": []
    },
    {
      "cell_type": "code",
      "source": [
        "drive.mount('/content/drive', force_remount=True)"
      ],
      "metadata": {
        "colab": {
          "base_uri": "https://localhost:8080/"
        },
        "id": "zQu9IblEHyQ8",
        "outputId": "f883c2f2-864a-4b23-8248-307995973e3c"
      },
      "execution_count": null,
      "outputs": [
        {
          "output_type": "stream",
          "name": "stdout",
          "text": [
            "Mounted at /content/drive\n"
          ]
        }
      ]
    },
    {
      "cell_type": "code",
      "source": [
        "df = pd.read_csv('/content/drive/MyDrive/Colab Notebooks/Kaggle/HR/HRDataset_v14.csv')"
      ],
      "metadata": {
        "id": "tvoeAzIjIIRF"
      },
      "execution_count": null,
      "outputs": []
    },
    {
      "cell_type": "code",
      "source": [
        "df.drop(['MarriedID', 'MaritalStatusID','GenderID', 'EmpStatusID', 'DeptID', \n",
        "         'PerfScoreID', 'FromDiversityJobFairID', 'PositionID', 'HispanicLatino'], \n",
        "        axis=1, inplace=True)"
      ],
      "metadata": {
        "id": "ZAugh4P4JErr"
      },
      "execution_count": null,
      "outputs": []
    },
    {
      "cell_type": "code",
      "source": [
        "df.head()"
      ],
      "metadata": {
        "colab": {
          "base_uri": "https://localhost:8080/",
          "height": 382
        },
        "id": "rbEUaXH2I3h4",
        "outputId": "aa351684-531e-47bd-f129-0e8838e8b373"
      },
      "execution_count": null,
      "outputs": [
        {
          "output_type": "execute_result",
          "data": {
            "text/html": [
              "<div>\n",
              "<style scoped>\n",
              "    .dataframe tbody tr th:only-of-type {\n",
              "        vertical-align: middle;\n",
              "    }\n",
              "\n",
              "    .dataframe tbody tr th {\n",
              "        vertical-align: top;\n",
              "    }\n",
              "\n",
              "    .dataframe thead th {\n",
              "        text-align: right;\n",
              "    }\n",
              "</style>\n",
              "<table border=\"1\" class=\"dataframe\">\n",
              "  <thead>\n",
              "    <tr style=\"text-align: right;\">\n",
              "      <th></th>\n",
              "      <th>Employee_Name</th>\n",
              "      <th>EmpID</th>\n",
              "      <th>Salary</th>\n",
              "      <th>Termd</th>\n",
              "      <th>Position</th>\n",
              "      <th>State</th>\n",
              "      <th>Zip</th>\n",
              "      <th>DOB</th>\n",
              "      <th>Sex</th>\n",
              "      <th>MaritalDesc</th>\n",
              "      <th>CitizenDesc</th>\n",
              "      <th>RaceDesc</th>\n",
              "      <th>DateofHire</th>\n",
              "      <th>DateofTermination</th>\n",
              "      <th>TermReason</th>\n",
              "      <th>EmploymentStatus</th>\n",
              "      <th>Department</th>\n",
              "      <th>ManagerName</th>\n",
              "      <th>ManagerID</th>\n",
              "      <th>RecruitmentSource</th>\n",
              "      <th>PerformanceScore</th>\n",
              "      <th>EngagementSurvey</th>\n",
              "      <th>EmpSatisfaction</th>\n",
              "      <th>SpecialProjectsCount</th>\n",
              "      <th>LastPerformanceReview_Date</th>\n",
              "      <th>DaysLateLast30</th>\n",
              "      <th>Absences</th>\n",
              "    </tr>\n",
              "  </thead>\n",
              "  <tbody>\n",
              "    <tr>\n",
              "      <th>0</th>\n",
              "      <td>Adinolfi, Wilson  K</td>\n",
              "      <td>10026</td>\n",
              "      <td>62506</td>\n",
              "      <td>0</td>\n",
              "      <td>Production Technician I</td>\n",
              "      <td>MA</td>\n",
              "      <td>1960</td>\n",
              "      <td>07/10/83</td>\n",
              "      <td>M</td>\n",
              "      <td>Single</td>\n",
              "      <td>US Citizen</td>\n",
              "      <td>White</td>\n",
              "      <td>7/5/2011</td>\n",
              "      <td>NaN</td>\n",
              "      <td>N/A-StillEmployed</td>\n",
              "      <td>Active</td>\n",
              "      <td>Production</td>\n",
              "      <td>Michael Albert</td>\n",
              "      <td>22.0</td>\n",
              "      <td>LinkedIn</td>\n",
              "      <td>Exceeds</td>\n",
              "      <td>4.60</td>\n",
              "      <td>5</td>\n",
              "      <td>0</td>\n",
              "      <td>1/17/2019</td>\n",
              "      <td>0</td>\n",
              "      <td>1</td>\n",
              "    </tr>\n",
              "    <tr>\n",
              "      <th>1</th>\n",
              "      <td>Ait Sidi, Karthikeyan</td>\n",
              "      <td>10084</td>\n",
              "      <td>104437</td>\n",
              "      <td>1</td>\n",
              "      <td>Sr. DBA</td>\n",
              "      <td>MA</td>\n",
              "      <td>2148</td>\n",
              "      <td>05/05/75</td>\n",
              "      <td>M</td>\n",
              "      <td>Married</td>\n",
              "      <td>US Citizen</td>\n",
              "      <td>White</td>\n",
              "      <td>3/30/2015</td>\n",
              "      <td>6/16/2016</td>\n",
              "      <td>career change</td>\n",
              "      <td>Voluntarily Terminated</td>\n",
              "      <td>IT/IS</td>\n",
              "      <td>Simon Roup</td>\n",
              "      <td>4.0</td>\n",
              "      <td>Indeed</td>\n",
              "      <td>Fully Meets</td>\n",
              "      <td>4.96</td>\n",
              "      <td>3</td>\n",
              "      <td>6</td>\n",
              "      <td>2/24/2016</td>\n",
              "      <td>0</td>\n",
              "      <td>17</td>\n",
              "    </tr>\n",
              "    <tr>\n",
              "      <th>2</th>\n",
              "      <td>Akinkuolie, Sarah</td>\n",
              "      <td>10196</td>\n",
              "      <td>64955</td>\n",
              "      <td>1</td>\n",
              "      <td>Production Technician II</td>\n",
              "      <td>MA</td>\n",
              "      <td>1810</td>\n",
              "      <td>09/19/88</td>\n",
              "      <td>F</td>\n",
              "      <td>Married</td>\n",
              "      <td>US Citizen</td>\n",
              "      <td>White</td>\n",
              "      <td>7/5/2011</td>\n",
              "      <td>9/24/2012</td>\n",
              "      <td>hours</td>\n",
              "      <td>Voluntarily Terminated</td>\n",
              "      <td>Production</td>\n",
              "      <td>Kissy Sullivan</td>\n",
              "      <td>20.0</td>\n",
              "      <td>LinkedIn</td>\n",
              "      <td>Fully Meets</td>\n",
              "      <td>3.02</td>\n",
              "      <td>3</td>\n",
              "      <td>0</td>\n",
              "      <td>5/15/2012</td>\n",
              "      <td>0</td>\n",
              "      <td>3</td>\n",
              "    </tr>\n",
              "    <tr>\n",
              "      <th>3</th>\n",
              "      <td>Alagbe,Trina</td>\n",
              "      <td>10088</td>\n",
              "      <td>64991</td>\n",
              "      <td>0</td>\n",
              "      <td>Production Technician I</td>\n",
              "      <td>MA</td>\n",
              "      <td>1886</td>\n",
              "      <td>09/27/88</td>\n",
              "      <td>F</td>\n",
              "      <td>Married</td>\n",
              "      <td>US Citizen</td>\n",
              "      <td>White</td>\n",
              "      <td>1/7/2008</td>\n",
              "      <td>NaN</td>\n",
              "      <td>N/A-StillEmployed</td>\n",
              "      <td>Active</td>\n",
              "      <td>Production</td>\n",
              "      <td>Elijiah Gray</td>\n",
              "      <td>16.0</td>\n",
              "      <td>Indeed</td>\n",
              "      <td>Fully Meets</td>\n",
              "      <td>4.84</td>\n",
              "      <td>5</td>\n",
              "      <td>0</td>\n",
              "      <td>1/3/2019</td>\n",
              "      <td>0</td>\n",
              "      <td>15</td>\n",
              "    </tr>\n",
              "    <tr>\n",
              "      <th>4</th>\n",
              "      <td>Anderson, Carol</td>\n",
              "      <td>10069</td>\n",
              "      <td>50825</td>\n",
              "      <td>1</td>\n",
              "      <td>Production Technician I</td>\n",
              "      <td>MA</td>\n",
              "      <td>2169</td>\n",
              "      <td>09/08/89</td>\n",
              "      <td>F</td>\n",
              "      <td>Divorced</td>\n",
              "      <td>US Citizen</td>\n",
              "      <td>White</td>\n",
              "      <td>7/11/2011</td>\n",
              "      <td>9/6/2016</td>\n",
              "      <td>return to school</td>\n",
              "      <td>Voluntarily Terminated</td>\n",
              "      <td>Production</td>\n",
              "      <td>Webster Butler</td>\n",
              "      <td>39.0</td>\n",
              "      <td>Google Search</td>\n",
              "      <td>Fully Meets</td>\n",
              "      <td>5.00</td>\n",
              "      <td>4</td>\n",
              "      <td>0</td>\n",
              "      <td>2/1/2016</td>\n",
              "      <td>0</td>\n",
              "      <td>2</td>\n",
              "    </tr>\n",
              "  </tbody>\n",
              "</table>\n",
              "</div>"
            ],
            "text/plain": [
              "              Employee_Name  EmpID  ...  DaysLateLast30  Absences\n",
              "0       Adinolfi, Wilson  K  10026  ...               0         1\n",
              "1  Ait Sidi, Karthikeyan     10084  ...               0        17\n",
              "2         Akinkuolie, Sarah  10196  ...               0         3\n",
              "3              Alagbe,Trina  10088  ...               0        15\n",
              "4          Anderson, Carol   10069  ...               0         2\n",
              "\n",
              "[5 rows x 27 columns]"
            ]
          },
          "metadata": {},
          "execution_count": 15
        }
      ]
    },
    {
      "cell_type": "code",
      "source": [
        "df.to_csv('/content/drive/MyDrive/Colab Notebooks/Kaggle/HR/HR.csv', index=False)"
      ],
      "metadata": {
        "id": "42fGkj1LUvW2"
      },
      "execution_count": null,
      "outputs": []
    }
  ]
}